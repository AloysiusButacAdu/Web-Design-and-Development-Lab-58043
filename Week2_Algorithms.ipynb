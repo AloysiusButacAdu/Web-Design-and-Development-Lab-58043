{
  "nbformat": 4,
  "nbformat_minor": 0,
  "metadata": {
    "colab": {
      "name": "Week2 - Algorithms.ipynb",
      "provenance": []
    },
    "kernelspec": {
      "name": "python3",
      "display_name": "Python 3"
    },
    "language_info": {
      "name": "python"
    }
  },
  "cells": [
    {
      "cell_type": "code",
      "execution_count": 34,
      "metadata": {
        "id": "f4qkkImWU3UV"
      },
      "outputs": [],
      "source": [
        "# algorithm:\n",
        "# Step 1 - START\n",
        "# Step 2 - declare radius(r) and Area(A)\n",
        "# Step 3 - define r\n",
        "# Step 4 - calculate Area => A = pi*r**2 && A = pi*d**2/4\n",
        "# Step 5 - Print A\n",
        "# Step 6 - STOP"
      ]
    },
    {
      "cell_type": "code",
      "source": [
        "import math ## import PI "
      ],
      "metadata": {
        "id": "FlnZdU6inT_5"
      },
      "execution_count": 3,
      "outputs": []
    },
    {
      "cell_type": "code",
      "source": [
        "# Abstract class p\n",
        "class Shape:\n",
        "  def AreaByRadius(self):\n",
        "    pass\n",
        "  def AreaByDiameter(self):\n",
        "    pass\n",
        "\n",
        "# Circle class\n",
        "class Circle(Shape):\n",
        "  def __init__(self, radius):\n",
        "    self.Radius = radius\n",
        "    self.Diameter = radius * 2\n",
        "  def AreaByRadius(self):\n",
        "    self.Area = math.pi * self.Radius * self.Radius\n",
        "    print(self.Area)\n",
        "  def AreaByDiameter(self):\n",
        "    self.Area = math.pi * self.Diameter * self.Diameter / 4\n",
        "    print(self.Area)"
      ],
      "metadata": {
        "id": "ETTBt4Hvma0X"
      },
      "execution_count": 32,
      "outputs": []
    },
    {
      "cell_type": "markdown",
      "source": [],
      "metadata": {
        "id": "5s-eI1k3qrKK"
      }
    },
    {
      "cell_type": "code",
      "source": [
        "# -- START --\n",
        "# Step 2 & 3 - declaring and defining r\n",
        "radius = 8\n",
        "c = Circle(radius) \n",
        "# Step 4 & 5 - calculating and printing area\n",
        "c.AreaByRadius()\n",
        "c.AreaByDiameter()\n",
        "# -- STOP --"
      ],
      "metadata": {
        "colab": {
          "base_uri": "https://localhost:8080/"
        },
        "id": "BIlyIKlKno1l",
        "outputId": "bc244795-93f6-4280-d33f-33d14a53c1e9"
      },
      "execution_count": 37,
      "outputs": [
        {
          "output_type": "stream",
          "name": "stdout",
          "text": [
            "201.06192982974676\n",
            "201.06192982974676\n"
          ]
        }
      ]
    }
  ]
}